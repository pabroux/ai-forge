{
 "cells": [
  {
   "cell_type": "markdown",
   "id": "3ad9e02d",
   "metadata": {},
   "source": [
    "# Import"
   ]
  },
  {
   "cell_type": "code",
   "execution_count": null,
   "id": "c50f4d11",
   "metadata": {},
   "outputs": [],
   "source": [
    "%matplotlib inline\n",
    "import torch\n",
    "import torch.nn as nn\n",
    "import torch.nn.functional as F\n",
    "import lightning.pytorch as pl\n",
    "import torchvision.transforms as transforms\n",
    "import torchvision\n",
    "from lightning.pytorch.tuner import Tuner\n",
    "from utils import get_logger\n",
    "\n",
    "# create logger\n",
    "logger = get_logger()\n",
    "\n",
    "logger.info(\"Setup Complete\")\n",
    "\n",
    "# seeting seeds for reproducibility\n",
    "pl.seed_everything(42, workers=True)"
   ]
  },
  {
   "cell_type": "markdown",
   "id": "c11ea06b",
   "metadata": {},
   "source": [
    "# Learning Rate Finder"
   ]
  },
  {
   "cell_type": "markdown",
   "id": "037d6707",
   "metadata": {},
   "source": [
    "## Input"
   ]
  },
  {
   "cell_type": "code",
   "execution_count": null,
   "id": "32c1d9cd",
   "metadata": {},
   "outputs": [],
   "source": [
    "from model import TestNet\n",
    "from datamodule import TestDataModule\n",
    "\n",
    "# Model to use\n",
    "model=TestNet()\n",
    "# Trainer to use\n",
    "trainer=pl.Trainer(\n",
    "        accelerator=\"cpu\",\n",
    "        max_epochs=100,\n",
    "        logger=False,\n",
    "    )\n",
    "# Data to use\n",
    "datamodule=TestDataModule(32)"
   ]
  },
  {
   "cell_type": "markdown",
   "id": "4264f7f1",
   "metadata": {},
   "source": [
    "## Assessing & outputting\n",
    "It's recommended to not pick the learning rate that achieves the lowest loss, but instead something in the middle of the sharpest downward slope (red point). It doesn't give you the perfect learning rate. It's only a help. Use it as a ballpark estimate where you should start to look for an actual learning rate in your code."
   ]
  },
  {
   "cell_type": "code",
   "execution_count": null,
   "id": "3ccf5c98",
   "metadata": {},
   "outputs": [],
   "source": [
    "tuner = Tuner(trainer)\n",
    "lr_finder = tuner.lr_find(model, datamodule=datamodule)\n",
    "fig = lr_finder.plot(suggest=True)\n",
    "fig.show()\n",
    "logger.info(\"Learning rate suggested: \"+str(lr_finder.suggestion()))"
   ]
  }
 ],
 "metadata": {
  "kernelspec": {
   "display_name": "Python 3 (ipykernel)",
   "language": "python",
   "name": "python3"
  },
  "language_info": {
   "codemirror_mode": {
    "name": "ipython",
    "version": 3
   },
   "file_extension": ".py",
   "mimetype": "text/x-python",
   "name": "python",
   "nbconvert_exporter": "python",
   "pygments_lexer": "ipython3",
   "version": "3.10.13"
  },
  "vscode": {
   "interpreter": {
    "hash": "8b252a8fe97090ed64c97387bdcc64e209cbdc064de7ccc479f028ba2eb26135"
   }
  }
 },
 "nbformat": 4,
 "nbformat_minor": 5
}
